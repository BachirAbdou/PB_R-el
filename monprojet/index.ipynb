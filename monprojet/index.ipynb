{
 "cells": [
  {
   "cell_type": "code",
   "execution_count": 1,
   "metadata": {},
   "outputs": [],
   "source": [
    "import pandas as pd\n",
    "import matplotlib.pyplot as plt\n",
    "import numpy as np"
   ]
  },
  {
   "cell_type": "code",
   "execution_count": 2,
   "metadata": {},
   "outputs": [],
   "source": [
    "df= pd.read_excel(\"../PB_R-el/data/Classeur1.xlsx\")\n"
   ]
  },
  {
   "cell_type": "code",
   "execution_count": null,
   "metadata": {},
   "outputs": [],
   "source": []
  },
  {
   "cell_type": "code",
   "execution_count": 3,
   "metadata": {},
   "outputs": [
    {
     "name": "stdout",
     "output_type": "stream",
     "text": [
      "<class 'pandas.core.frame.DataFrame'>\n",
      "RangeIndex: 1134 entries, 0 to 1133\n",
      "Data columns (total 11 columns):\n",
      " #   Column                          Non-Null Count  Dtype \n",
      "---  ------                          --------------  ----- \n",
      " 0   Matricule Buchenwald kl         1134 non-null   object\n",
      " 1   Nom                             1134 non-null   object\n",
      " 2   Prénom                          1134 non-null   object\n",
      " 3   Sexe                            1134 non-null   object\n",
      " 4   Date de naissance               1134 non-null   object\n",
      " 5   Lieu de naissance               1134 non-null   object\n",
      " 6   Nationalité                     1134 non-null   object\n",
      " 7   Parcours complet                1134 non-null   object\n",
      " 8   Situation                       1134 non-null   object\n",
      " 9   Date de libération ou de décès  1134 non-null   object\n",
      " 10  Lieu de libération ou de décès  1134 non-null   object\n",
      "dtypes: object(11)\n",
      "memory usage: 97.6+ KB\n"
     ]
    }
   ],
   "source": [
    "df.info()"
   ]
  },
  {
   "cell_type": "code",
   "execution_count": 4,
   "metadata": {},
   "outputs": [
    {
     "name": "stdout",
     "output_type": "stream",
     "text": [
      "|    |   Matricule Buchenwald kl | Nom       | Prénom   | Sexe   | Date de naissance   | Lieu de naissance         | Nationalité   | Parcours complet   | Situation   | Date de libération ou de décès   | Lieu de libération ou de décès   |\n",
      "|---:|--------------------------:|:----------|:---------|:-------|:--------------------|:--------------------------|:--------------|:-------------------|:------------|:---------------------------------|:---------------------------------|\n",
      "|  0 |                      3833 | ABOZZI    | Joseph   | M      | 16.07.1920          | Roquefort-la-Bedoule (13) | F             | We,Bu              | D           | ?                                | ?                                |\n",
      "|  1 |                    139900 | ABRAHAM * | André    | M      | 25.12.1908          | Fismes (51)               | F             | Kas, Gux,Bu,Da     | R           | 29.04.1945                       | Dachau                           |\n"
     ]
    }
   ],
   "source": [
    "print(df.head(2).to_markdown())"
   ]
  },
  {
   "cell_type": "code",
   "execution_count": null,
   "metadata": {},
   "outputs": [],
   "source": []
  },
  {
   "cell_type": "code",
   "execution_count": null,
   "metadata": {},
   "outputs": [],
   "source": []
  },
  {
   "cell_type": "code",
   "execution_count": null,
   "metadata": {},
   "outputs": [],
   "source": []
  }
 ],
 "metadata": {
  "kernelspec": {
   "display_name": "Python 3.10.0 64-bit",
   "language": "python",
   "name": "python3"
  },
  "language_info": {
   "codemirror_mode": {
    "name": "ipython",
    "version": 3
   },
   "file_extension": ".py",
   "mimetype": "text/x-python",
   "name": "python",
   "nbconvert_exporter": "python",
   "pygments_lexer": "ipython3",
   "version": "3.10.0 (tags/v3.10.0:b494f59, Oct  4 2021, 19:00:18) [MSC v.1929 64 bit (AMD64)]"
  },
  "orig_nbformat": 4,
  "vscode": {
   "interpreter": {
    "hash": "63963b3f4c440940f0b94a3100916033a226cb4f45979123153792d60aa56d6a"
   }
  }
 },
 "nbformat": 4,
 "nbformat_minor": 2
}
