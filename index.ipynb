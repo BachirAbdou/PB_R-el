{
 "cells": [
  {
   "attachments": {},
   "cell_type": "markdown",
   "metadata": {},
   "source": [
    "![img](Images/Epi.png)\n",
    "<H1>TP3 Analyse de données<H1>"
   ]
  },
  {
   "attachments": {},
   "cell_type": "markdown",
   "metadata": {},
   "source": [
    "Dans ce projet d'analyse de données qui est le mien, j'utiliserai le jeu de données des deportés norvegiens \n",
    " lors de la seonde guerre mondiale,  qui ont étés déportés dans le camp d'Auschwits en 1940 à la suite\n",
    " de la guerre qu'Hitler a declanché en 1939. lors de cette geurre, beaucoup de camp de concentration ont été\n",
    " établi principalement contre les juifs et quelques prisonniers de guerre.\n",
    " * j'ai accès à des informations sur une partie des deportés (768 déportés) norvegiens. \n",
    " * Pourquoi certains déporté ont survécu et d'autres sont morts?\n",
    " * Commencons l'analyse de données\n",
    "                     ![img](Images/Deportees.jpg)\n",
    "\n",
    "## Chargement de données\n",
    "\n",
    "Les donnés sont dans un tableau au format xlsx(excel):"
   ]
  },
  {
   "cell_type": "code",
   "execution_count": 171,
   "metadata": {},
   "outputs": [],
   "source": [
    "import pandas as pd\n",
    "import numpy as np\n",
    "dep = pd.read_excel('../PB_R-el/LesDeportes.xlsx')"
   ]
  },
  {
   "attachments": {},
   "cell_type": "markdown",
   "metadata": {},
   "source": [
    "Ensuite, on OBSERVE ce qu’on a!!"
   ]
  },
  {
   "cell_type": "code",
   "execution_count": 172,
   "metadata": {},
   "outputs": [
    {
     "data": {
      "text/html": [
       "<div>\n",
       "<style scoped>\n",
       "    .dataframe tbody tr th:only-of-type {\n",
       "        vertical-align: middle;\n",
       "    }\n",
       "\n",
       "    .dataframe tbody tr th {\n",
       "        vertical-align: top;\n",
       "    }\n",
       "\n",
       "    .dataframe thead th {\n",
       "        text-align: right;\n",
       "    }\n",
       "</style>\n",
       "<table border=\"1\" class=\"dataframe\">\n",
       "  <thead>\n",
       "    <tr style=\"text-align: right;\">\n",
       "      <th></th>\n",
       "      <th>Nom de Famille</th>\n",
       "      <th>Prénom</th>\n",
       "      <th>Date de Naissance</th>\n",
       "      <th>Arrété à</th>\n",
       "      <th>Comté</th>\n",
       "      <th>Profession</th>\n",
       "      <th>Arrété le</th>\n",
       "      <th>Déporté le</th>\n",
       "      <th>Bateau</th>\n",
       "      <th>Date de décès</th>\n",
       "      <th>Age</th>\n",
       "      <th>Lieu de décès</th>\n",
       "      <th>Numéro de Serie d'Auschwitz</th>\n",
       "      <th>Sexe</th>\n",
       "      <th>survived</th>\n",
       "      <th>DeporteesId</th>\n",
       "    </tr>\n",
       "  </thead>\n",
       "  <tbody>\n",
       "    <tr>\n",
       "      <th>758</th>\n",
       "      <td>Werner</td>\n",
       "      <td>Friedrich</td>\n",
       "      <td>28-Mar-1873</td>\n",
       "      <td>Oslo</td>\n",
       "      <td>Oslo</td>\n",
       "      <td>NaN</td>\n",
       "      <td>1942-10-26 00:00:00</td>\n",
       "      <td>1942-11-26 00:00:00</td>\n",
       "      <td>Donau</td>\n",
       "      <td>1-Dec-1942</td>\n",
       "      <td>69</td>\n",
       "      <td>Auschwitz</td>\n",
       "      <td>NaN</td>\n",
       "      <td>M</td>\n",
       "      <td>0.0</td>\n",
       "      <td>759</td>\n",
       "    </tr>\n",
       "    <tr>\n",
       "      <th>759</th>\n",
       "      <td>Wilk</td>\n",
       "      <td>Bernhard</td>\n",
       "      <td>5-Oct-1883</td>\n",
       "      <td>Oslo</td>\n",
       "      <td>Oslo</td>\n",
       "      <td>Sales agent</td>\n",
       "      <td>1942-10-26 00:00:00</td>\n",
       "      <td>1942-11-26 00:00:00</td>\n",
       "      <td>Donau</td>\n",
       "      <td>1-Dec-1942</td>\n",
       "      <td>59</td>\n",
       "      <td>Auschwitz</td>\n",
       "      <td>NaN</td>\n",
       "      <td>M</td>\n",
       "      <td>0.0</td>\n",
       "      <td>760</td>\n",
       "    </tr>\n",
       "    <tr>\n",
       "      <th>760</th>\n",
       "      <td>Wolf</td>\n",
       "      <td>Paul</td>\n",
       "      <td>15-Oct-1885</td>\n",
       "      <td>Oslo</td>\n",
       "      <td>Oslo</td>\n",
       "      <td>Cabinetmaker</td>\n",
       "      <td>1942-11-26 00:00:00</td>\n",
       "      <td>1942-11-26 00:00:00</td>\n",
       "      <td>Donau</td>\n",
       "      <td>1-Dec-1942</td>\n",
       "      <td>57</td>\n",
       "      <td>Auschwitz</td>\n",
       "      <td>NaN</td>\n",
       "      <td>M</td>\n",
       "      <td>0.0</td>\n",
       "      <td>761</td>\n",
       "    </tr>\n",
       "    <tr>\n",
       "      <th>761</th>\n",
       "      <td>Wolfberg[57][58]</td>\n",
       "      <td>Leif (Leiba)</td>\n",
       "      <td>1914-10-10 00:00:00</td>\n",
       "      <td>Oslo</td>\n",
       "      <td>Oslo</td>\n",
       "      <td>Violinist</td>\n",
       "      <td>3-Apr-1942</td>\n",
       "      <td>1942-11-26 00:00:00</td>\n",
       "      <td>Monte Rosa</td>\n",
       "      <td>Survived</td>\n",
       "      <td>NaN</td>\n",
       "      <td>NaN</td>\n",
       "      <td>81952</td>\n",
       "      <td>F</td>\n",
       "      <td>1.0</td>\n",
       "      <td>762</td>\n",
       "    </tr>\n",
       "    <tr>\n",
       "      <th>762</th>\n",
       "      <td>Wolkoff</td>\n",
       "      <td>Elias</td>\n",
       "      <td>1923-03-06 00:00:00</td>\n",
       "      <td>Oslo</td>\n",
       "      <td>Oslo</td>\n",
       "      <td>Mason</td>\n",
       "      <td>1942-10-27 00:00:00</td>\n",
       "      <td>1942-11-26 00:00:00</td>\n",
       "      <td>Donau</td>\n",
       "      <td>1943-01-19 00:00:00</td>\n",
       "      <td>19</td>\n",
       "      <td>Auschwitz</td>\n",
       "      <td>79248</td>\n",
       "      <td>M</td>\n",
       "      <td>0.0</td>\n",
       "      <td>763</td>\n",
       "    </tr>\n",
       "    <tr>\n",
       "      <th>763</th>\n",
       "      <td>Wulff</td>\n",
       "      <td>Doris</td>\n",
       "      <td>19-Feb-1938</td>\n",
       "      <td>Oslo</td>\n",
       "      <td>Oslo</td>\n",
       "      <td>Child</td>\n",
       "      <td>1942-11-26 00:00:00</td>\n",
       "      <td>1942-11-26 00:00:00</td>\n",
       "      <td>Donau</td>\n",
       "      <td>1-Dec-1942</td>\n",
       "      <td>4</td>\n",
       "      <td>Auschwitz</td>\n",
       "      <td>NaN</td>\n",
       "      <td>F</td>\n",
       "      <td>0.0</td>\n",
       "      <td>764</td>\n",
       "    </tr>\n",
       "    <tr>\n",
       "      <th>764</th>\n",
       "      <td>Wulff</td>\n",
       "      <td>Harry</td>\n",
       "      <td>1908-10-24 00:00:00</td>\n",
       "      <td>Oslo</td>\n",
       "      <td>Oslo</td>\n",
       "      <td>Businessman</td>\n",
       "      <td>1942-10-26 00:00:00</td>\n",
       "      <td>1942-11-26 00:00:00</td>\n",
       "      <td>Donau</td>\n",
       "      <td>1943-03-22 00:00:00</td>\n",
       "      <td>34</td>\n",
       "      <td>Auschwitz</td>\n",
       "      <td>79245</td>\n",
       "      <td>M</td>\n",
       "      <td>0.0</td>\n",
       "      <td>765</td>\n",
       "    </tr>\n",
       "    <tr>\n",
       "      <th>765</th>\n",
       "      <td>Wulff</td>\n",
       "      <td>Olga</td>\n",
       "      <td>17-Apr-1911</td>\n",
       "      <td>Oslo</td>\n",
       "      <td>Oslo</td>\n",
       "      <td>Homemaker</td>\n",
       "      <td>1942-11-26 00:00:00</td>\n",
       "      <td>1942-11-26 00:00:00</td>\n",
       "      <td>Donau</td>\n",
       "      <td>1-Dec-1942</td>\n",
       "      <td>31</td>\n",
       "      <td>Auschwitz</td>\n",
       "      <td>NaN</td>\n",
       "      <td>M</td>\n",
       "      <td>0.0</td>\n",
       "      <td>766</td>\n",
       "    </tr>\n",
       "    <tr>\n",
       "      <th>766</th>\n",
       "      <td>Zilsel</td>\n",
       "      <td>Martin Heinz</td>\n",
       "      <td>22-Aug-1917</td>\n",
       "      <td>Oslo</td>\n",
       "      <td>Oslo</td>\n",
       "      <td>Photographer</td>\n",
       "      <td>1942-10-26 00:00:00</td>\n",
       "      <td>1942-11-26 00:00:00</td>\n",
       "      <td>Donau</td>\n",
       "      <td>1943-01-14 00:00:00</td>\n",
       "      <td>25</td>\n",
       "      <td>Auschwitz</td>\n",
       "      <td>NaN</td>\n",
       "      <td>M</td>\n",
       "      <td>0.0</td>\n",
       "      <td>767</td>\n",
       "    </tr>\n",
       "    <tr>\n",
       "      <th>767</th>\n",
       "      <td>Zuckmann</td>\n",
       "      <td>Frida</td>\n",
       "      <td>24-Dec-1888</td>\n",
       "      <td>Trondheim</td>\n",
       "      <td>Sør-Trøndelag</td>\n",
       "      <td>NaN</td>\n",
       "      <td>1942-11-26 00:00:00</td>\n",
       "      <td>24-Feb-1943</td>\n",
       "      <td>Gotenland</td>\n",
       "      <td>1943-03-03 00:00:00</td>\n",
       "      <td>54</td>\n",
       "      <td>Auschwitz</td>\n",
       "      <td>NaN</td>\n",
       "      <td>F</td>\n",
       "      <td>NaN</td>\n",
       "      <td>768</td>\n",
       "    </tr>\n",
       "  </tbody>\n",
       "</table>\n",
       "</div>"
      ],
      "text/plain": [
       "       Nom de Famille        Prénom    Date de Naissance   Arrété à  \\\n",
       "758            Werner     Friedrich          28-Mar-1873       Oslo   \n",
       "759              Wilk      Bernhard           5-Oct-1883       Oslo   \n",
       "760              Wolf          Paul          15-Oct-1885       Oslo   \n",
       "761  Wolfberg[57][58]  Leif (Leiba)  1914-10-10 00:00:00       Oslo   \n",
       "762           Wolkoff         Elias  1923-03-06 00:00:00       Oslo   \n",
       "763             Wulff         Doris          19-Feb-1938       Oslo   \n",
       "764             Wulff         Harry  1908-10-24 00:00:00       Oslo   \n",
       "765             Wulff          Olga          17-Apr-1911       Oslo   \n",
       "766            Zilsel  Martin Heinz          22-Aug-1917       Oslo   \n",
       "767          Zuckmann         Frida          24-Dec-1888  Trondheim   \n",
       "\n",
       "             Comté    Profession            Arrété le           Déporté le  \\\n",
       "758           Oslo           NaN  1942-10-26 00:00:00  1942-11-26 00:00:00   \n",
       "759           Oslo   Sales agent  1942-10-26 00:00:00  1942-11-26 00:00:00   \n",
       "760           Oslo  Cabinetmaker  1942-11-26 00:00:00  1942-11-26 00:00:00   \n",
       "761           Oslo     Violinist           3-Apr-1942  1942-11-26 00:00:00   \n",
       "762           Oslo         Mason  1942-10-27 00:00:00  1942-11-26 00:00:00   \n",
       "763           Oslo         Child  1942-11-26 00:00:00  1942-11-26 00:00:00   \n",
       "764           Oslo   Businessman  1942-10-26 00:00:00  1942-11-26 00:00:00   \n",
       "765           Oslo     Homemaker  1942-11-26 00:00:00  1942-11-26 00:00:00   \n",
       "766           Oslo  Photographer  1942-10-26 00:00:00  1942-11-26 00:00:00   \n",
       "767  Sør-Trøndelag           NaN  1942-11-26 00:00:00          24-Feb-1943   \n",
       "\n",
       "         Bateau        Date de décès  Age Lieu de décès  \\\n",
       "758       Donau           1-Dec-1942   69     Auschwitz   \n",
       "759       Donau           1-Dec-1942   59     Auschwitz   \n",
       "760       Donau           1-Dec-1942   57     Auschwitz   \n",
       "761  Monte Rosa             Survived  NaN           NaN   \n",
       "762       Donau  1943-01-19 00:00:00   19     Auschwitz   \n",
       "763       Donau           1-Dec-1942    4     Auschwitz   \n",
       "764       Donau  1943-03-22 00:00:00   34     Auschwitz   \n",
       "765       Donau           1-Dec-1942   31     Auschwitz   \n",
       "766       Donau  1943-01-14 00:00:00   25     Auschwitz   \n",
       "767   Gotenland  1943-03-03 00:00:00   54     Auschwitz   \n",
       "\n",
       "    Numéro de Serie d'Auschwitz Sexe  survived  DeporteesId  \n",
       "758                         NaN    M       0.0          759  \n",
       "759                         NaN    M       0.0          760  \n",
       "760                         NaN    M       0.0          761  \n",
       "761                       81952    F       1.0          762  \n",
       "762                       79248    M       0.0          763  \n",
       "763                         NaN    F       0.0          764  \n",
       "764                       79245    M       0.0          765  \n",
       "765                         NaN    M       0.0          766  \n",
       "766                         NaN    M       0.0          767  \n",
       "767                         NaN    F       NaN          768  "
      ]
     },
     "execution_count": 172,
     "metadata": {},
     "output_type": "execute_result"
    }
   ],
   "source": [
    "dep.tail(10)"
   ]
  },
  {
   "cell_type": "code",
   "execution_count": 173,
   "metadata": {},
   "outputs": [
    {
     "data": {
      "text/plain": [
       "(768, 16)"
      ]
     },
     "execution_count": 173,
     "metadata": {},
     "output_type": "execute_result"
    }
   ],
   "source": [
    "dep.shape"
   ]
  },
  {
   "cell_type": "code",
   "execution_count": 174,
   "metadata": {},
   "outputs": [
    {
     "name": "stdout",
     "output_type": "stream",
     "text": [
      "<class 'pandas.core.frame.DataFrame'>\n",
      "RangeIndex: 768 entries, 0 to 767\n",
      "Data columns (total 16 columns):\n",
      " #   Column                       Non-Null Count  Dtype  \n",
      "---  ------                       --------------  -----  \n",
      " 0   Nom de Famille               768 non-null    object \n",
      " 1   Prénom                       768 non-null    object \n",
      " 2   Date de Naissance            767 non-null    object \n",
      " 3   Arrété à                     768 non-null    object \n",
      " 4   Comté                        768 non-null    object \n",
      " 5   Profession                   746 non-null    object \n",
      " 6   Arrété le                    765 non-null    object \n",
      " 7   Déporté le                   765 non-null    object \n",
      " 8   Bateau                       768 non-null    object \n",
      " 9   Date de décès                727 non-null    object \n",
      " 10  Age                          738 non-null    object \n",
      " 11  Lieu de décès                738 non-null    object \n",
      " 12  Numéro de Serie d'Auschwitz  134 non-null    object \n",
      " 13  Sexe                         767 non-null    object \n",
      " 14  survived                     733 non-null    float64\n",
      " 15  DeporteesId                  768 non-null    int64  \n",
      "dtypes: float64(1), int64(1), object(14)\n",
      "memory usage: 96.1+ KB\n"
     ]
    }
   ],
   "source": [
    "dep.info()\n",
    "#dep.describe()"
   ]
  },
  {
   "attachments": {},
   "cell_type": "markdown",
   "metadata": {},
   "source": [
    "Les colonnes sont:\n",
    "\n",
    "* Nom de Famille : Nom de Famille de la Personne\n",
    "\n",
    "* Prénom : Prenom de la personne\n",
    "\n",
    "* Date de Naissance : Date de la Naissance de la Personne\n",
    "\n",
    "* Arrété à : Lieu ou la Personne a été arrété\n",
    "\n",
    "* Compté : Le Compté dans lequel il a été arrété\n",
    "\n",
    "* Profession : La Profession de la Personne\n",
    "\n",
    "* Arrété le :\tDate de son arret\t\n",
    "\n",
    "* Déporté le\t: Date de sa deportation\t\n",
    "\n",
    "* Bateau :\tNom du Bateau sur lequel il a été deporté\t\n",
    "\n",
    "* Date de Décès :\tTrue(Survived)/False(0)\t\n",
    "\n",
    "* Age : Age lors de son decès\n",
    "\n",
    "* Lieu de Décès : Lieu ou il est decédé\n",
    "* Numéro de Serie d'Auschwitz : Son Numéro de serie à Auschwitz"
   ]
  },
  {
   "attachments": {},
   "cell_type": "markdown",
   "metadata": {},
   "source": [
    "## Question / Objectif\n",
    "<strong>Pourquoi certains passagers ont survécu et d’autres sont morts?<strong>"
   ]
  },
  {
   "attachments": {},
   "cell_type": "markdown",
   "metadata": {},
   "source": [
    "On veut trouver les colonnes qui expliquent le Survived/0 dans Date de Décès et construire un modèle qui permettrait d’expliquer au mieux Date de Décès étant donné nos informations.\n",
    "\n",
    "On va commencer par observer nos données, en répondant à des questions descriptives:\n",
    "1. Quel sexe a le plus de chances de survie ?\n",
    "2. Est-ce que les adolescents ont eu plus de chances de survie ?\n",
    "3. Calculer la proportion de survie selon le Compté."
   ]
  },
  {
   "attachments": {},
   "cell_type": "markdown",
   "metadata": {},
   "source": [
    "### Etape 1: Supprimer les NAN de la colonnes \"survived\"\n",
    "La colonne \"Survived\" a des valeurs manquantes (735 disponibles/768). Comme la plupart des deportés sont morts, on peut supposer que Survived =0."
   ]
  },
  {
   "cell_type": "code",
   "execution_count": 175,
   "metadata": {},
   "outputs": [],
   "source": [
    "dep[\"survived\"] = dep[\"survived\"].fillna(0.0)"
   ]
  },
  {
   "cell_type": "code",
   "execution_count": 176,
   "metadata": {},
   "outputs": [
    {
     "name": "stdout",
     "output_type": "stream",
     "text": [
      "<class 'pandas.core.frame.DataFrame'>\n",
      "RangeIndex: 768 entries, 0 to 767\n",
      "Data columns (total 16 columns):\n",
      " #   Column                       Non-Null Count  Dtype  \n",
      "---  ------                       --------------  -----  \n",
      " 0   Nom de Famille               768 non-null    object \n",
      " 1   Prénom                       768 non-null    object \n",
      " 2   Date de Naissance            767 non-null    object \n",
      " 3   Arrété à                     768 non-null    object \n",
      " 4   Comté                        768 non-null    object \n",
      " 5   Profession                   746 non-null    object \n",
      " 6   Arrété le                    765 non-null    object \n",
      " 7   Déporté le                   765 non-null    object \n",
      " 8   Bateau                       768 non-null    object \n",
      " 9   Date de décès                727 non-null    object \n",
      " 10  Age                          738 non-null    object \n",
      " 11  Lieu de décès                738 non-null    object \n",
      " 12  Numéro de Serie d'Auschwitz  134 non-null    object \n",
      " 13  Sexe                         767 non-null    object \n",
      " 14  survived                     768 non-null    float64\n",
      " 15  DeporteesId                  768 non-null    int64  \n",
      "dtypes: float64(1), int64(1), object(14)\n",
      "memory usage: 96.1+ KB\n"
     ]
    }
   ],
   "source": [
    "dep.info()"
   ]
  },
  {
   "attachments": {},
   "cell_type": "markdown",
   "metadata": {},
   "source": [
    "### Quel sexe a le plus de chances de survie ?\n",
    "* Comparaison de la proportion d’hommes et de femmes passagers du Titanic qui ont survécu\n",
    "\n",
    "* Utilisons groupby, qui permet de produire des tables de synthèses par catégories:"
   ]
  },
  {
   "cell_type": "code",
   "execution_count": 177,
   "metadata": {},
   "outputs": [
    {
     "data": {
      "text/plain": [
       "Sexe  survived\n",
       "F     0.0         258\n",
       "      1.0           6\n",
       "M     0.0         481\n",
       "      1.0          22\n",
       "Name: DeporteesId, dtype: int64"
      ]
     },
     "execution_count": 177,
     "metadata": {},
     "output_type": "execute_result"
    }
   ],
   "source": [
    "dep.groupby(['Sexe','survived']).count()['DeporteesId']"
   ]
  },
  {
   "attachments": {},
   "cell_type": "markdown",
   "metadata": {},
   "source": [
    "#### Autres tables de synthèse"
   ]
  },
  {
   "cell_type": "code",
   "execution_count": 178,
   "metadata": {},
   "outputs": [
    {
     "data": {
      "text/plain": [
       "Sexe\n",
       "F    264\n",
       "M    503\n",
       "Name: DeporteesId, dtype: int64"
      ]
     },
     "execution_count": 178,
     "metadata": {},
     "output_type": "execute_result"
    }
   ],
   "source": [
    "deportés = dep.groupby('Sexe')['DeporteesId'].count()\n",
    "deportés"
   ]
  },
  {
   "cell_type": "code",
   "execution_count": 179,
   "metadata": {},
   "outputs": [
    {
     "data": {
      "text/plain": [
       "Sexe\n",
       "F     6.0\n",
       "M    22.0\n",
       "Name: survived, dtype: float64"
      ]
     },
     "execution_count": 179,
     "metadata": {},
     "output_type": "execute_result"
    }
   ],
   "source": [
    "survivors = dep.groupby('Sexe')['survived'].sum()\n",
    "survivors"
   ]
  },
  {
   "cell_type": "code",
   "execution_count": 180,
   "metadata": {},
   "outputs": [
    {
     "data": {
      "text/html": [
       "<div>\n",
       "<style scoped>\n",
       "    .dataframe tbody tr th:only-of-type {\n",
       "        vertical-align: middle;\n",
       "    }\n",
       "\n",
       "    .dataframe tbody tr th {\n",
       "        vertical-align: top;\n",
       "    }\n",
       "\n",
       "    .dataframe thead th {\n",
       "        text-align: right;\n",
       "    }\n",
       "</style>\n",
       "<table border=\"1\" class=\"dataframe\">\n",
       "  <thead>\n",
       "    <tr style=\"text-align: right;\">\n",
       "      <th></th>\n",
       "      <th>Survivants</th>\n",
       "      <th>Deportés</th>\n",
       "      <th>%</th>\n",
       "    </tr>\n",
       "    <tr>\n",
       "      <th>Sexe</th>\n",
       "      <th></th>\n",
       "      <th></th>\n",
       "      <th></th>\n",
       "    </tr>\n",
       "  </thead>\n",
       "  <tbody>\n",
       "    <tr>\n",
       "      <th>F</th>\n",
       "      <td>6.0</td>\n",
       "      <td>264</td>\n",
       "      <td>2.3</td>\n",
       "    </tr>\n",
       "    <tr>\n",
       "      <th>M</th>\n",
       "      <td>22.0</td>\n",
       "      <td>503</td>\n",
       "      <td>4.4</td>\n",
       "    </tr>\n",
       "  </tbody>\n",
       "</table>\n",
       "</div>"
      ],
      "text/plain": [
       "      Survivants  Deportés    %\n",
       "Sexe                           \n",
       "F            6.0       264  2.3\n",
       "M           22.0       503  4.4"
      ]
     },
     "execution_count": 180,
     "metadata": {},
     "output_type": "execute_result"
    }
   ],
   "source": [
    "summary = pd.DataFrame({\"Survivants\": survivors,\n",
    "                        \"Deportés\": deportés,\n",
    "                        \"%\": round(100*survivors / deportés,1)})\n",
    "summary"
   ]
  },
  {
   "cell_type": "code",
   "execution_count": 181,
   "metadata": {},
   "outputs": [
    {
     "data": {
      "image/png": "[encoded data removed]",
      "text/plain": [
       "<Figure size 432x288 with 1 Axes>"
      ]
     },
     "metadata": {
      "needs_background": "light"
     },
     "output_type": "display_data"
    }
   ],
   "source": [
    "import matplotlib.pyplot as plt\n",
    "summary[[\"Survivants\", \"Deportés\"]].plot(kind='bar');"
   ]
  },
  {
   "cell_type": "code",
   "execution_count": 182,
   "metadata": {},
   "outputs": [
    {
     "data": {
      "image/png": "[encoded data removed]",
      "text/plain": [
       "<Figure size 432x288 with 1 Axes>"
      ]
     },
     "metadata": {
      "needs_background": "light"
     },
     "output_type": "display_data"
    }
   ],
   "source": [
    "summary[[\"Survivants\", \"Deportés\"]].plot(kind='bar');\n",
    "plt.xlabel('Sexe')\n",
    "plt.ylabel('Total')\n",
    "plt.title('Comparaison de la survie selon le sexe');"
   ]
  },
  {
   "attachments": {},
   "cell_type": "markdown",
   "metadata": {},
   "source": [
    "#### Conclution\n",
    "* Observation :\n",
    "\n",
    "  * 3,25% seulement des deportés ont survécus dont 4.0% des hommes contre seulement 1,9% des femmes\n",
    "\n",
    "  * Il y a plus d’hommes que de femmes dans le Camp de Concentration\n",
    "\n",
    "* Interprétation : Les hommes ont eu plus de chances de survivre que les femmes\n",
    "\n",
    "Pour aller plus loin, on pourrait regarder à quel age les hommes et femmes avaient la plus grande chance de survie."
   ]
  },
  {
   "attachments": {},
   "cell_type": "markdown",
   "metadata": {},
   "source": [
    "### Est-ce que les enfants ont eu plus de chances de survie ?\n",
    "* On va commencer par séparer les enfants des adultes selon l’age. Problème, on a des données manquantes."
   ]
  },
  {
   "cell_type": "code",
   "execution_count": 183,
   "metadata": {},
   "outputs": [
    {
     "name": "stdout",
     "output_type": "stream",
     "text": [
      "Si j'enlève toutes les lignes contenant un 'NaN':  (100, 16)\n",
      "\n",
      "Si je n'enlève que les 'NaN' de la colonne Age :  (738, 16)\n"
     ]
    }
   ],
   "source": [
    "print(\"Si j'enlève toutes les lignes contenant un 'NaN': \", dep.dropna().shape)\n",
    "deportes_filtrer_age = dep.loc[dep['Age'].notna(),:]\n",
    "print(\"\\nSi je n'enlève que les 'NaN' de la colonne Age : \", deportes_filtrer_age.shape)"
   ]
  },
  {
   "attachments": {},
   "cell_type": "markdown",
   "metadata": {},
   "source": [
    "Maintenant on va créer une nouvelle colonne indiquant si l’on est adulte"
   ]
  },
  {
   "cell_type": "code",
   "execution_count": null,
   "metadata": {},
   "outputs": [],
   "source": []
  },
  {
   "cell_type": "code",
   "execution_count": null,
   "metadata": {},
   "outputs": [],
   "source": []
  },
  {
   "cell_type": "code",
   "execution_count": null,
   "metadata": {},
   "outputs": [],
   "source": [
    "survivors = deportes_filtrer_age.groupby(['Adult','Sex'])['Survived'].sum()\n",
    "survivors"
   ]
  },
  {
   "attachments": {},
   "cell_type": "markdown",
   "metadata": {},
   "source": [
    "#### Résumons et Visualisons"
   ]
  },
  {
   "cell_type": "code",
   "execution_count": null,
   "metadata": {},
   "outputs": [],
   "source": [
    "deportés = deportes_filtrer_age.groupby(['Adult','Sexe'])['DeporteesId'].count()\n",
    "summary = pd.DataFrame({\"Survivants\": survivors,\n",
    "                       \"Passagers\": deportés,\n",
    "                       \"%\": round(survivors/deportés*100, 1)})\n",
    "summary.index=['Girl','Boy','Woman','Man']\n",
    "summary"
   ]
  },
  {
   "cell_type": "code",
   "execution_count": null,
   "metadata": {},
   "outputs": [],
   "source": [
    "summary.plot(kind='bar')\n",
    "plt.xlabel(\"Personnes classées selon l'age et le sexe\")\n",
    "plt.ylabel('Total')\n",
    "plt.title(\"Comparaison de la survie selon l'age et le sexe\");"
   ]
  },
  {
   "attachments": {},
   "cell_type": "markdown",
   "metadata": {},
   "source": [
    "* Observations:\n",
    "\n",
    " * Il y a plus d’adultes que d’enfants.\n",
    "\n",
    " * Ainsi, on a respectivement 52.8%, 28%, 50.3% et 12.2% de survivant-es parmi les filles, garcons, femmes et hommes.\n",
    "\n",
    "* Interprétation: \n",
    "  Quelque soit la catégorie, les personnes de sexe féminin ont une plus grande chance de survie que les masculins. Les enfants de sexe masculin ont une plus grande chance de survie que les adultes mais ce n’est pas réciproque pour les personnes de sexe féminin. Pour aller plus loin, que pourrions nous regarder ?"
   ]
  },
  {
   "attachments": {},
   "cell_type": "markdown",
   "metadata": {},
   "source": [
    "### Calculer la proportion de survie selon le port d’embarquement"
   ]
  },
  {
   "attachments": {},
   "cell_type": "markdown",
   "metadata": {},
   "source": [
    "La colonne du comté d’embarquement a des valeurs manquantes. Comme la plupart des deportés sont montées à Oslo, on peut supposer que les données manquantes viennent de là."
   ]
  },
  {
   "cell_type": "code",
   "execution_count": null,
   "metadata": {},
   "outputs": [],
   "source": [
    "dep[\"Comté\"] = dep[\"Comté\"].fillna('Oslo')"
   ]
  },
  {
   "cell_type": "code",
   "execution_count": null,
   "metadata": {},
   "outputs": [
    {
     "data": {
      "text/html": [
       "<div>\n",
       "<style scoped>\n",
       "    .dataframe tbody tr th:only-of-type {\n",
       "        vertical-align: middle;\n",
       "    }\n",
       "\n",
       "    .dataframe tbody tr th {\n",
       "        vertical-align: top;\n",
       "    }\n",
       "\n",
       "    .dataframe thead th {\n",
       "        text-align: right;\n",
       "    }\n",
       "</style>\n",
       "<table border=\"1\" class=\"dataframe\">\n",
       "  <thead>\n",
       "    <tr style=\"text-align: right;\">\n",
       "      <th></th>\n",
       "      <th>Survivants</th>\n",
       "      <th>deportés</th>\n",
       "      <th>%</th>\n",
       "    </tr>\n",
       "    <tr>\n",
       "      <th>Comté</th>\n",
       "      <th></th>\n",
       "      <th></th>\n",
       "      <th></th>\n",
       "    </tr>\n",
       "  </thead>\n",
       "  <tbody>\n",
       "    <tr>\n",
       "      <th>Akershus</th>\n",
       "      <td>0.0</td>\n",
       "      <td>39</td>\n",
       "      <td>0.0</td>\n",
       "    </tr>\n",
       "    <tr>\n",
       "      <th>Aust-Agder</th>\n",
       "      <td>2.0</td>\n",
       "      <td>2</td>\n",
       "      <td>100.0</td>\n",
       "    </tr>\n",
       "    <tr>\n",
       "      <th>Buskerud</th>\n",
       "      <td>1.0</td>\n",
       "      <td>20</td>\n",
       "      <td>5.0</td>\n",
       "    </tr>\n",
       "    <tr>\n",
       "      <th>Finnmark</th>\n",
       "      <td>0.0</td>\n",
       "      <td>2</td>\n",
       "      <td>0.0</td>\n",
       "    </tr>\n",
       "    <tr>\n",
       "      <th>Hedmark</th>\n",
       "      <td>0.0</td>\n",
       "      <td>9</td>\n",
       "      <td>0.0</td>\n",
       "    </tr>\n",
       "    <tr>\n",
       "      <th>Hordaland</th>\n",
       "      <td>0.0</td>\n",
       "      <td>26</td>\n",
       "      <td>0.0</td>\n",
       "    </tr>\n",
       "    <tr>\n",
       "      <th>Møre og Romsdal</th>\n",
       "      <td>3.0</td>\n",
       "      <td>30</td>\n",
       "      <td>10.0</td>\n",
       "    </tr>\n",
       "    <tr>\n",
       "      <th>Nordland</th>\n",
       "      <td>0.0</td>\n",
       "      <td>13</td>\n",
       "      <td>0.0</td>\n",
       "    </tr>\n",
       "    <tr>\n",
       "      <th>Oppland</th>\n",
       "      <td>0.0</td>\n",
       "      <td>14</td>\n",
       "      <td>0.0</td>\n",
       "    </tr>\n",
       "    <tr>\n",
       "      <th>Oslo</th>\n",
       "      <td>13.0</td>\n",
       "      <td>476</td>\n",
       "      <td>2.7</td>\n",
       "    </tr>\n",
       "    <tr>\n",
       "      <th>Rogaland</th>\n",
       "      <td>1.0</td>\n",
       "      <td>12</td>\n",
       "      <td>8.3</td>\n",
       "    </tr>\n",
       "    <tr>\n",
       "      <th>Sogn og Fjordane</th>\n",
       "      <td>0.0</td>\n",
       "      <td>4</td>\n",
       "      <td>0.0</td>\n",
       "    </tr>\n",
       "    <tr>\n",
       "      <th>Sør-Trøndelag</th>\n",
       "      <td>4.0</td>\n",
       "      <td>62</td>\n",
       "      <td>6.5</td>\n",
       "    </tr>\n",
       "    <tr>\n",
       "      <th>Telemark</th>\n",
       "      <td>0.0</td>\n",
       "      <td>2</td>\n",
       "      <td>0.0</td>\n",
       "    </tr>\n",
       "    <tr>\n",
       "      <th>Troms</th>\n",
       "      <td>0.0</td>\n",
       "      <td>17</td>\n",
       "      <td>0.0</td>\n",
       "    </tr>\n",
       "    <tr>\n",
       "      <th>Vest-Agder</th>\n",
       "      <td>0.0</td>\n",
       "      <td>1</td>\n",
       "      <td>0.0</td>\n",
       "    </tr>\n",
       "    <tr>\n",
       "      <th>Vestfold</th>\n",
       "      <td>1.0</td>\n",
       "      <td>30</td>\n",
       "      <td>3.3</td>\n",
       "    </tr>\n",
       "    <tr>\n",
       "      <th>Østfold</th>\n",
       "      <td>0.0</td>\n",
       "      <td>9</td>\n",
       "      <td>0.0</td>\n",
       "    </tr>\n",
       "  </tbody>\n",
       "</table>\n",
       "</div>"
      ],
      "text/plain": [
       "                  Survivants  deportés      %\n",
       "Comté                                        \n",
       "Akershus                 0.0        39    0.0\n",
       "Aust-Agder               2.0         2  100.0\n",
       "Buskerud                 1.0        20    5.0\n",
       "Finnmark                 0.0         2    0.0\n",
       "Hedmark                  0.0         9    0.0\n",
       "Hordaland                0.0        26    0.0\n",
       "Møre og Romsdal          3.0        30   10.0\n",
       "Nordland                 0.0        13    0.0\n",
       "Oppland                  0.0        14    0.0\n",
       "Oslo                    13.0       476    2.7\n",
       "Rogaland                 1.0        12    8.3\n",
       "Sogn og Fjordane         0.0         4    0.0\n",
       "Sør-Trøndelag            4.0        62    6.5\n",
       "Telemark                 0.0         2    0.0\n",
       "Troms                    0.0        17    0.0\n",
       "Vest-Agder               0.0         1    0.0\n",
       "Vestfold                 1.0        30    3.3\n",
       "Østfold                  0.0         9    0.0"
      ]
     },
     "execution_count": 121,
     "metadata": {},
     "output_type": "execute_result"
    }
   ],
   "source": [
    "survivors_per_comté = dep.groupby('Comté')['survived'].sum()\n",
    "deportes_per_comté = dep.groupby('Comté')['DeporteesId'].count()\n",
    "comparaison_comté_survie = pd.DataFrame({\"Survivants\": survivors_per_comté,\n",
    "                                        \"deportés\": deportes_per_comté,\n",
    "                                        \"%\": round(survivors_per_comté/deportes_per_comté*100, 1)})\n",
    "comparaison_comté_survie"
   ]
  },
  {
   "cell_type": "code",
   "execution_count": null,
   "metadata": {},
   "outputs": [
    {
     "data": {
      "text/plain": [
       "Text(0.5, 1.0, 'Comparaison de survie selon le Comté')"
      ]
     },
     "execution_count": 123,
     "metadata": {},
     "output_type": "execute_result"
    },
    {
     "data": {
      "image/png": "[encoded data removed]",
      "text/plain": [
       "<Figure size 432x288 with 1 Axes>"
      ]
     },
     "metadata": {
      "needs_background": "light"
     },
     "output_type": "display_data"
    }
   ],
   "source": [
    "comparaison_comté_survie.plot(kind='bar')\n",
    "plt.xlabel(\"Comté de deportation\")\n",
    "plt.ylabel(\"Nombre d'individus\")\n",
    "plt.title('Comparaison de survie selon le Comté')"
   ]
  },
  {
   "attachments": {},
   "cell_type": "markdown",
   "metadata": {},
   "source": [
    "La figure indique que:\n",
    "\n",
    "* la plupart des individus sont capturés à Oslo puis Sør-Trøndelag. après viennent Akershus, Møre og Romsdal, Vestfold, Hordaland, Buskerud, Troms, Oppland, Nordland, Rogaland, Østfold, Hedmark, Sogn og Fjordane, Aust-Agder, Finnmark, Télémark et Vest-Agder.\n",
    "\n",
    "* le nombre de survivants et survivantes est plus grand selon le meme ordre.\n",
    "\n",
    "* Respectivement 13/476; 4/62, 3/30 , 2/2 , 1/20 , 1/13 , 1/29  ont survécus selon le comté de déportation d'Oslo, Sør-Trøndelag, Møre og Romsdal, Aust-Agder, Buskerud, Rogaland, Vestfold. Pour les autres, il n'y a aucun survivant.\n",
    "\n",
    "* L’analyse de proportionnalité nous informe que les individus étant montés à Aust-Agder ont eu plus de chance de survie. Pourquoi cela ?"
   ]
  },
  {
   "attachments": {},
   "cell_type": "markdown",
   "metadata": {},
   "source": [
    "### C'est quoi la corrélation ? Et la causalité ?\n",
    "Il existe trois types de relations statistiques:\n",
    "\n",
    "* corrélation positive: si une variable augmente, l’autre aussi.\n",
    "\n",
    "* corrélation négative: si une variable augmente, l’autre diminue.\n",
    "\n",
    "* absence de corrélation: si une variable augmente, l’autre peut ou pas varier sans lien entre elle.\n",
    "\n",
    "Exemple de corrélation:"
   ]
  },
  {
   "attachments": {},
   "cell_type": "markdown",
   "metadata": {},
   "source": [
    "![img](Images/correlationChocolatNobels.png)"
   ]
  },
  {
   "attachments": {},
   "cell_type": "markdown",
   "metadata": {},
   "source": [
    "Cette corrélation est tirée d’un papier de 2012 par F. Messerli.\n",
    "\n",
    "C. Pissarides, prix Nobel d’économie en 2010 suite à ce papier à commenté:\n",
    "\n",
    "« To win a Nobel Prize you have to produce something that others haven’t thought about - chocolate that makes you feel good might contribute a little bit. Of course it’s not the main factor but… anything that contributes to a better life and a better outlook in your life then contributes to the quality of your work. »\n",
    "\n",
    "1. Décrivez la figure\n",
    "\n",
    "2. Qu’est-ce qu’on observe?\n",
    "\n",
    "3. Qu’en conclut-on?\n",
    "\n",
    "Depuis, il a été montré que la corrélation positive est due à la richesse économique (economic wealth).\n",
    "\n",
    "Alors qu’est ce que la causalité ?\n",
    "\n",
    "Dans notre exemple, la richesse économique implique\n",
    "\n",
    "* une plus grande dépense en recherche\n",
    "\n",
    "* ce qui implique une corrélation positive avec le nombre de prix Nobel.\n",
    "\n",
    "Par ailleurs et indépendamment, la richesse économique implique :\n",
    "\n",
    "* de plus grandes dépenses dans les produits de luxe, dont le chocolat.\n",
    "\n",
    "Causalité n’est pas corrélation\n",
    "* Les corrélations relèvent de l'observation;\n",
    "\n",
    "* Les causalités relèvent de l'interprétation !"
   ]
  },
  {
   "attachments": {},
   "cell_type": "markdown",
   "metadata": {},
   "source": [
    "Retour au Comté de déportation. Pourquoi on survit plus si on est déporté a Aust-Agder ?\n",
    "\n",
    "Hypothèse : Il y a plus d'hommes parmis les dépotés d'Aust-Agder (?)\n",
    "\n",
    "\n",
    "\n",
    "\n",
    "#### Hypothèse : Il y a plus d'hommes parmis les dépotés d'Aust-Agder"
   ]
  },
  {
   "cell_type": "code",
   "execution_count": null,
   "metadata": {},
   "outputs": [
    {
     "data": {
      "text/html": [
       "<div>\n",
       "<style scoped>\n",
       "    .dataframe tbody tr th:only-of-type {\n",
       "        vertical-align: middle;\n",
       "    }\n",
       "\n",
       "    .dataframe tbody tr th {\n",
       "        vertical-align: top;\n",
       "    }\n",
       "\n",
       "    .dataframe thead th {\n",
       "        text-align: right;\n",
       "    }\n",
       "</style>\n",
       "<table border=\"1\" class=\"dataframe\">\n",
       "  <thead>\n",
       "    <tr style=\"text-align: right;\">\n",
       "      <th></th>\n",
       "      <th>Female</th>\n",
       "      <th>Male</th>\n",
       "      <th>Total</th>\n",
       "      <th>% Female</th>\n",
       "    </tr>\n",
       "    <tr>\n",
       "      <th>Comté</th>\n",
       "      <th></th>\n",
       "      <th></th>\n",
       "      <th></th>\n",
       "      <th></th>\n",
       "    </tr>\n",
       "  </thead>\n",
       "  <tbody>\n",
       "    <tr>\n",
       "      <th>Akershus</th>\n",
       "      <td>14.0</td>\n",
       "      <td>25</td>\n",
       "      <td>39</td>\n",
       "      <td>0.358974</td>\n",
       "    </tr>\n",
       "    <tr>\n",
       "      <th>Aust-Agder</th>\n",
       "      <td>1.0</td>\n",
       "      <td>1</td>\n",
       "      <td>2</td>\n",
       "      <td>0.500000</td>\n",
       "    </tr>\n",
       "    <tr>\n",
       "      <th>Buskerud</th>\n",
       "      <td>7.0</td>\n",
       "      <td>13</td>\n",
       "      <td>20</td>\n",
       "      <td>0.350000</td>\n",
       "    </tr>\n",
       "    <tr>\n",
       "      <th>Finnmark</th>\n",
       "      <td>NaN</td>\n",
       "      <td>2</td>\n",
       "      <td>2</td>\n",
       "      <td>NaN</td>\n",
       "    </tr>\n",
       "    <tr>\n",
       "      <th>Hedmark</th>\n",
       "      <td>3.0</td>\n",
       "      <td>6</td>\n",
       "      <td>9</td>\n",
       "      <td>0.333333</td>\n",
       "    </tr>\n",
       "    <tr>\n",
       "      <th>Hordaland</th>\n",
       "      <td>6.0</td>\n",
       "      <td>20</td>\n",
       "      <td>26</td>\n",
       "      <td>0.230769</td>\n",
       "    </tr>\n",
       "    <tr>\n",
       "      <th>Møre og Romsdal</th>\n",
       "      <td>8.0</td>\n",
       "      <td>22</td>\n",
       "      <td>30</td>\n",
       "      <td>0.266667</td>\n",
       "    </tr>\n",
       "    <tr>\n",
       "      <th>Nordland</th>\n",
       "      <td>2.0</td>\n",
       "      <td>11</td>\n",
       "      <td>13</td>\n",
       "      <td>0.153846</td>\n",
       "    </tr>\n",
       "    <tr>\n",
       "      <th>Oppland</th>\n",
       "      <td>4.0</td>\n",
       "      <td>10</td>\n",
       "      <td>14</td>\n",
       "      <td>0.285714</td>\n",
       "    </tr>\n",
       "    <tr>\n",
       "      <th>Oslo</th>\n",
       "      <td>170.0</td>\n",
       "      <td>305</td>\n",
       "      <td>476</td>\n",
       "      <td>0.357143</td>\n",
       "    </tr>\n",
       "    <tr>\n",
       "      <th>Rogaland</th>\n",
       "      <td>5.0</td>\n",
       "      <td>7</td>\n",
       "      <td>12</td>\n",
       "      <td>0.416667</td>\n",
       "    </tr>\n",
       "    <tr>\n",
       "      <th>Sogn og Fjordane</th>\n",
       "      <td>1.0</td>\n",
       "      <td>3</td>\n",
       "      <td>4</td>\n",
       "      <td>0.250000</td>\n",
       "    </tr>\n",
       "    <tr>\n",
       "      <th>Sør-Trøndelag</th>\n",
       "      <td>26.0</td>\n",
       "      <td>36</td>\n",
       "      <td>62</td>\n",
       "      <td>0.419355</td>\n",
       "    </tr>\n",
       "    <tr>\n",
       "      <th>Telemark</th>\n",
       "      <td>NaN</td>\n",
       "      <td>2</td>\n",
       "      <td>2</td>\n",
       "      <td>NaN</td>\n",
       "    </tr>\n",
       "    <tr>\n",
       "      <th>Troms</th>\n",
       "      <td>5.0</td>\n",
       "      <td>12</td>\n",
       "      <td>17</td>\n",
       "      <td>0.294118</td>\n",
       "    </tr>\n",
       "    <tr>\n",
       "      <th>Vest-Agder</th>\n",
       "      <td>NaN</td>\n",
       "      <td>1</td>\n",
       "      <td>1</td>\n",
       "      <td>NaN</td>\n",
       "    </tr>\n",
       "    <tr>\n",
       "      <th>Vestfold</th>\n",
       "      <td>11.0</td>\n",
       "      <td>19</td>\n",
       "      <td>30</td>\n",
       "      <td>0.366667</td>\n",
       "    </tr>\n",
       "    <tr>\n",
       "      <th>Østfold</th>\n",
       "      <td>1.0</td>\n",
       "      <td>8</td>\n",
       "      <td>9</td>\n",
       "      <td>0.111111</td>\n",
       "    </tr>\n",
       "  </tbody>\n",
       "</table>\n",
       "</div>"
      ],
      "text/plain": [
       "                  Female  Male  Total  % Female\n",
       "Comté                                          \n",
       "Akershus            14.0    25     39  0.358974\n",
       "Aust-Agder           1.0     1      2  0.500000\n",
       "Buskerud             7.0    13     20  0.350000\n",
       "Finnmark             NaN     2      2       NaN\n",
       "Hedmark              3.0     6      9  0.333333\n",
       "Hordaland            6.0    20     26  0.230769\n",
       "Møre og Romsdal      8.0    22     30  0.266667\n",
       "Nordland             2.0    11     13  0.153846\n",
       "Oppland              4.0    10     14  0.285714\n",
       "Oslo               170.0   305    476  0.357143\n",
       "Rogaland             5.0     7     12  0.416667\n",
       "Sogn og Fjordane     1.0     3      4  0.250000\n",
       "Sør-Trøndelag       26.0    36     62  0.419355\n",
       "Telemark             NaN     2      2       NaN\n",
       "Troms                5.0    12     17  0.294118\n",
       "Vest-Agder           NaN     1      1       NaN\n",
       "Vestfold            11.0    19     30  0.366667\n",
       "Østfold              1.0     8      9  0.111111"
      ]
     },
     "execution_count": 125,
     "metadata": {},
     "output_type": "execute_result"
    }
   ],
   "source": [
    "female_per_comté = dep[dep['Sexe']=='F'].groupby('Comté')['DeporteesId'].count()\n",
    "male_per_comté = dep[dep['Sexe']=='M'].groupby('Comté')['DeporteesId'].count()\n",
    "pd.DataFrame({\"Female\": female_per_comté,\n",
    "              \"Male\" : male_per_comté,\n",
    "              \"Total\": deportes_per_comté,\n",
    "              \"% Female\": female_per_comté / deportes_per_comté\n",
    "              })"
   ]
  },
  {
   "attachments": {},
   "cell_type": "markdown",
   "metadata": {},
   "source": [
    "### Corrélation (point mathématique)\n",
    "Le coefficient de [corrélation linéaire de Pearson](https://en.wikipedia.org/wiki/Pearson_correlation_coefficient) se calcule facilement en python . Il correspond à la version normalisée par la standard deviation (écart-type) de la covariance. \n",
    "Mathematiquement, on a:\n",
    "$$\n",
    "\\rho_{xy} = \\frac{\\sigma_{xy}}{\\sigma_x\\sigma_y}\n",
    "$$\n",
    "\n",
    "varie entre -1 et 1 et représente la force de la relation linéaire qui existe entre les 2 vecteurs/séries.\n",
    "\n",
    " * 0 : pas de corrélation,\n",
    " * 1 : corrélation positive parfaite (si on connait x alors on peut déduire y, les points sont alignés le long d'une droite)\n",
    " * -1: corrélation négative parfaite (idem)\n",
    " * en réalité, on a souvent des corrélations intermédiaires\n",
    "« The intention of this contribution was to show that the correlation between chocolate consumption per capita and the number of Nobel laureates per capita (as reported by Messerli, 2012) will vanish if one controls for relevant other variables and if one uses a sophisticated estimation technique. » par Prinz A. L. (2020)\n",
    "![img](Images/correlationsChocolat.jpeg)\n",
    "On peut calculer la matrice de corrélation qui correspond à la corrélation entre les colonnes d’une table, et utiliser une carte de chaleur (heatmap en anglais) pour mieux la visualiser:"
   ]
  },
  {
   "cell_type": "code",
   "execution_count": null,
   "metadata": {},
   "outputs": [
    {
     "data": {
      "text/html": [
       "<style type=\"text/css\">\n",
       "#T_76d96_row0_col0, #T_76d96_row1_col1 {\n",
       "  background-color: #b40426;\n",
       "  color: #f1f1f1;\n",
       "}\n",
       "#T_76d96_row0_col1, #T_76d96_row1_col0 {\n",
       "  background-color: #3b4cc0;\n",
       "  color: #f1f1f1;\n",
       "}\n",
       "</style>\n",
       "<table id=\"T_76d96\">\n",
       "  <thead>\n",
       "    <tr>\n",
       "      <th class=\"blank level0\" >&nbsp;</th>\n",
       "      <th id=\"T_76d96_level0_col0\" class=\"col_heading level0 col0\" >survived</th>\n",
       "      <th id=\"T_76d96_level0_col1\" class=\"col_heading level0 col1\" >DeporteesId</th>\n",
       "    </tr>\n",
       "  </thead>\n",
       "  <tbody>\n",
       "    <tr>\n",
       "      <th id=\"T_76d96_level0_row0\" class=\"row_heading level0 row0\" >survived</th>\n",
       "      <td id=\"T_76d96_row0_col0\" class=\"data row0 col0\" >1.000000</td>\n",
       "      <td id=\"T_76d96_row0_col1\" class=\"data row0 col1\" >0.008390</td>\n",
       "    </tr>\n",
       "    <tr>\n",
       "      <th id=\"T_76d96_level0_row1\" class=\"row_heading level0 row1\" >DeporteesId</th>\n",
       "      <td id=\"T_76d96_row1_col0\" class=\"data row1 col0\" >0.008390</td>\n",
       "      <td id=\"T_76d96_row1_col1\" class=\"data row1 col1\" >1.000000</td>\n",
       "    </tr>\n",
       "  </tbody>\n",
       "</table>\n"
      ],
      "text/plain": [
       "<pandas.io.formats.style.Styler at 0x16c28c66c40>"
      ]
     },
     "execution_count": 128,
     "metadata": {},
     "output_type": "execute_result"
    }
   ],
   "source": [
    "dep.corr()\n",
    "dep.corr().style.background_gradient(cmap='coolwarm', axis=1)\n",
    "#remarque on ne peut pas calculer de correlation linéaire \n",
    "#avec des données ayant plus de 2 catégories comme le port d'embarquement\n",
    "# il faudrait faire une ANOVA (off-topic)"
   ]
  },
  {
   "attachments": {},
   "cell_type": "markdown",
   "metadata": {},
   "source": [
    "Attention: par défaut, pour attribuer des couleurs aux nombres dans une carte de chaleur, Pandas applique une standardisation par colonne. Le \"axis=None\" assure que la normalisation est appliquée à l’ensemble des valeurs de la table.\n",
    "\n",
    "Variante, avec \"Seaborn\":"
   ]
  },
  {
   "cell_type": "code",
   "execution_count": null,
   "metadata": {},
   "outputs": [
    {
     "data": {
      "image/png": "[encoded data removed]",
      "text/plain": [
       "<Figure size 432x288 with 2 Axes>"
      ]
     },
     "metadata": {
      "needs_background": "light"
     },
     "output_type": "display_data"
    }
   ],
   "source": [
    "import seaborn as sns\n",
    "\n",
    "sns.heatmap(dep.corr(), fmt='0.2f', annot=True, square=True);"
   ]
  },
  {
   "cell_type": "code",
   "execution_count": null,
   "metadata": {},
   "outputs": [],
   "source": []
  },
  {
   "cell_type": "markdown",
   "metadata": {},
   "source": []
  },
  {
   "cell_type": "markdown",
   "metadata": {},
   "source": []
  },
  {
   "cell_type": "markdown",
   "metadata": {},
   "source": []
  }
 ],
 "metadata": {
  "celltoolbar": "Diaporama",
  "kernelspec": {
   "display_name": "Python 3 (ipykernel)",
   "language": "python",
   "name": "python3"
  },
  "language_info": {
   "codemirror_mode": {
    "name": "ipython",
    "version": 3
   },
   "file_extension": ".py",
   "mimetype": "text/x-python",
   "name": "python",
   "nbconvert_exporter": "python",
   "pygments_lexer": "ipython3",
   "version": "3.9.12"
  },
  "vscode": {
   "interpreter": {
    "hash": "40efc6f5c881aca25503b4ae91973bf4a41e2ba0f83e65758a924facdfdadc43"
   }
  }
 },
 "nbformat": 4,
 "nbformat_minor": 2
}
