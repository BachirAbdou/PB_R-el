{
 "cells": [
  {
   "cell_type": "code",
   "execution_count": 17,
   "metadata": {},
   "outputs": [],
   "source": [
    "import pandas as pd\n",
    "import numpy as np\n",
    "import matplotlib.pyplot as plt"
   ]
  },
  {
   "cell_type": "code",
   "execution_count": 19,
   "metadata": {},
   "outputs": [],
   "source": [
    "dep = pd.read_excel('../PB_R-el/LesDeportes.xlsx')"
   ]
  },
  {
   "cell_type": "code",
   "execution_count": 11,
   "metadata": {},
   "outputs": [
    {
     "data": {
      "text/html": [
       "<div>\n",
       "<style scoped>\n",
       "    .dataframe tbody tr th:only-of-type {\n",
       "        vertical-align: middle;\n",
       "    }\n",
       "\n",
       "    .dataframe tbody tr th {\n",
       "        vertical-align: top;\n",
       "    }\n",
       "\n",
       "    .dataframe thead th {\n",
       "        text-align: right;\n",
       "    }\n",
       "</style>\n",
       "<table border=\"1\" class=\"dataframe\">\n",
       "  <thead>\n",
       "    <tr style=\"text-align: right;\">\n",
       "      <th></th>\n",
       "      <th>Matricule Buchenwald kl</th>\n",
       "      <th>Nom</th>\n",
       "      <th>Prénom</th>\n",
       "      <th>Sexe</th>\n",
       "      <th>Date de naissance</th>\n",
       "      <th>Lieu de naissance</th>\n",
       "      <th>Nationalité</th>\n",
       "      <th>Parcours complet</th>\n",
       "      <th>Situation</th>\n",
       "      <th>Date de libération ou de décès</th>\n",
       "      <th>Lieu de libération ou de décès</th>\n",
       "    </tr>\n",
       "  </thead>\n",
       "  <tbody>\n",
       "    <tr>\n",
       "      <th>0</th>\n",
       "      <td>3833</td>\n",
       "      <td>ABOZZI</td>\n",
       "      <td>Joseph</td>\n",
       "      <td>M</td>\n",
       "      <td>16.07.1920</td>\n",
       "      <td>Roquefort-la-Bedoule (13)</td>\n",
       "      <td>F</td>\n",
       "      <td>We,Bu</td>\n",
       "      <td>D</td>\n",
       "      <td>?</td>\n",
       "      <td>?</td>\n",
       "    </tr>\n",
       "    <tr>\n",
       "      <th>1</th>\n",
       "      <td>139900</td>\n",
       "      <td>ABRAHAM *</td>\n",
       "      <td>André</td>\n",
       "      <td>M</td>\n",
       "      <td>25.12.1908</td>\n",
       "      <td>Fismes (51)</td>\n",
       "      <td>F</td>\n",
       "      <td>Kas, Gux,Bu,Da</td>\n",
       "      <td>R</td>\n",
       "      <td>29.04.1945</td>\n",
       "      <td>Dachau</td>\n",
       "    </tr>\n",
       "    <tr>\n",
       "      <th>2</th>\n",
       "      <td>139425</td>\n",
       "      <td>ADELLE</td>\n",
       "      <td>Georges</td>\n",
       "      <td>M</td>\n",
       "      <td>05.05.1924</td>\n",
       "      <td>Beaumont-sur-Oise (78)</td>\n",
       "      <td>F</td>\n",
       "      <td>Bu</td>\n",
       "      <td>R</td>\n",
       "      <td>??/04/1945</td>\n",
       "      <td>Bitterfeld</td>\n",
       "    </tr>\n",
       "    <tr>\n",
       "      <th>3</th>\n",
       "      <td>28899</td>\n",
       "      <td>ADRIANT</td>\n",
       "      <td>Alfred</td>\n",
       "      <td>M</td>\n",
       "      <td>11/09/1899</td>\n",
       "      <td>Crevic (54)</td>\n",
       "      <td>F</td>\n",
       "      <td>Bu,Do</td>\n",
       "      <td>DCD</td>\n",
       "      <td>23.03.1944</td>\n",
       "      <td>Dora</td>\n",
       "    </tr>\n",
       "    <tr>\n",
       "      <th>4</th>\n",
       "      <td>28902</td>\n",
       "      <td>ADRIANT</td>\n",
       "      <td>Louis</td>\n",
       "      <td>M</td>\n",
       "      <td>28.09.1906</td>\n",
       "      <td>Crevic (54)</td>\n",
       "      <td>F</td>\n",
       "      <td>Fh,Bu,Do</td>\n",
       "      <td>R</td>\n",
       "      <td>11.04.1945</td>\n",
       "      <td>Dora</td>\n",
       "    </tr>\n",
       "  </tbody>\n",
       "</table>\n",
       "</div>"
      ],
      "text/plain": [
       "  Matricule Buchenwald kl        Nom   Prénom Sexe Date de naissance  \\\n",
       "0                    3833     ABOZZI   Joseph    M        16.07.1920   \n",
       "1                  139900  ABRAHAM *    André    M        25.12.1908   \n",
       "2                  139425     ADELLE  Georges    M        05.05.1924   \n",
       "3                   28899    ADRIANT   Alfred    M        11/09/1899   \n",
       "4                   28902    ADRIANT    Louis    M        28.09.1906   \n",
       "\n",
       "           Lieu de naissance Nationalité Parcours complet Situation  \\\n",
       "0  Roquefort-la-Bedoule (13)           F            We,Bu         D   \n",
       "1                Fismes (51)           F   Kas, Gux,Bu,Da         R   \n",
       "2     Beaumont-sur-Oise (78)           F               Bu         R   \n",
       "3                Crevic (54)           F            Bu,Do       DCD   \n",
       "4                Crevic (54)           F         Fh,Bu,Do         R   \n",
       "\n",
       "  Date de libération ou de décès Lieu de libération ou de décès  \n",
       "0                              ?                              ?  \n",
       "1                     29.04.1945                         Dachau  \n",
       "2                     ??/04/1945                     Bitterfeld  \n",
       "3                     23.03.1944                           Dora  \n",
       "4                     11.04.1945                           Dora  "
      ]
     },
     "execution_count": 11,
     "metadata": {},
     "output_type": "execute_result"
    }
   ],
   "source": [
    "dep.head()"
   ]
  },
  {
   "cell_type": "code",
   "execution_count": 12,
   "metadata": {},
   "outputs": [
    {
     "data": {
      "text/plain": [
       "(1134, 11)"
      ]
     },
     "execution_count": 12,
     "metadata": {},
     "output_type": "execute_result"
    }
   ],
   "source": [
    "dep.shape"
   ]
  },
  {
   "cell_type": "code",
   "execution_count": 13,
   "metadata": {},
   "outputs": [
    {
     "name": "stdout",
     "output_type": "stream",
     "text": [
      "<class 'pandas.core.frame.DataFrame'>\n",
      "RangeIndex: 1134 entries, 0 to 1133\n",
      "Data columns (total 11 columns):\n",
      " #   Column                          Non-Null Count  Dtype \n",
      "---  ------                          --------------  ----- \n",
      " 0   Matricule Buchenwald kl         1134 non-null   object\n",
      " 1   Nom                             1134 non-null   object\n",
      " 2   Prénom                          1134 non-null   object\n",
      " 3   Sexe                            1134 non-null   object\n",
      " 4   Date de naissance               1134 non-null   object\n",
      " 5   Lieu de naissance               1134 non-null   object\n",
      " 6   Nationalité                     1134 non-null   object\n",
      " 7   Parcours complet                1134 non-null   object\n",
      " 8   Situation                       1134 non-null   object\n",
      " 9   Date de libération ou de décès  1134 non-null   object\n",
      " 10  Lieu de libération ou de décès  1134 non-null   object\n",
      "dtypes: object(11)\n",
      "memory usage: 97.6+ KB\n"
     ]
    }
   ],
   "source": [
    "dep.info()"
   ]
  },
  {
   "cell_type": "markdown",
   "metadata": {},
   "source": [
    "Les colonnes sont:"
   ]
  },
  {
   "cell_type": "markdown",
   "metadata": {},
   "source": []
  },
  {
   "cell_type": "markdown",
   "metadata": {},
   "source": []
  },
  {
   "cell_type": "markdown",
   "metadata": {},
   "source": []
  }
 ],
 "metadata": {
  "celltoolbar": "Diaporama",
  "kernelspec": {
   "display_name": "Python 3 (ipykernel)",
   "language": "python",
   "name": "python3"
  },
  "language_info": {
   "codemirror_mode": {
    "name": "ipython",
    "version": 3
   },
   "file_extension": ".py",
   "mimetype": "text/x-python",
   "name": "python",
   "nbconvert_exporter": "python",
   "pygments_lexer": "ipython3",
   "version": "3.9.12"
  },
  "vscode": {
   "interpreter": {
    "hash": "40efc6f5c881aca25503b4ae91973bf4a41e2ba0f83e65758a924facdfdadc43"
   }
  }
 },
 "nbformat": 4,
 "nbformat_minor": 2
}
