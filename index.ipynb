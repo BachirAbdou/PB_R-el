{
 "cells": [
  {
   "cell_type": "markdown",
   "metadata": {
    "slideshow": {
     "slide_type": "slide"
    }
   },
   "source": [
    "# PROJET\n",
    "## PRESENTATION\n",
    "|    |       |\n",
    "|----|-------|\n",
    "|Nom|Bachir|\n",
    "|Prenom|Abdou|\n",
    "|Groupe|DS|"
   ]
  },
  {
   "cell_type": "markdown",
   "metadata": {
    "slideshow": {
     "slide_type": "slide"
    }
   },
   "source": [
    "<p class=\"fragment\" data-fragment-index=\"1\">Appears first</p>\n",
    "<p class=\"fragment\" data-fragment-index=\"2\">Appears second</p>\n",
    "<p class=\"fragment\" data-fragment-index=\"3\">Appears last</p>"
   ]
  },
  {
   "cell_type": "code",
   "execution_count": 8,
   "metadata": {},
   "outputs": [],
   "source": [
    "import pandas as pd\n",
    "import numpy as np\n",
    "import matplotlib.pyplot as plt"
   ]
  },
  {
   "cell_type": "code",
   "execution_count": 10,
   "metadata": {},
   "outputs": [
    {
     "ename": "FileNotFoundError",
     "evalue": "[Errno 2] No such file or directory: '../data/LesDeportes.xlsx'",
     "output_type": "error",
     "traceback": [
      "\u001b[1;31m---------------------------------------------------------------------------\u001b[0m",
      "\u001b[1;31mFileNotFoundError\u001b[0m                         Traceback (most recent call last)",
      "\u001b[1;32mc:\\Users\\hp\\Desktop\\PB\\PB_Reel\\PB_R-el\\index.ipynb Cellule 5\u001b[0m in \u001b[0;36m<cell line: 1>\u001b[1;34m()\u001b[0m\n\u001b[1;32m----> <a href='vscode-notebook-cell:/c%3A/Users/hp/Desktop/PB/PB_Reel/PB_R-el/index.ipynb#W4sZmlsZQ%3D%3D?line=0'>1</a>\u001b[0m depp \u001b[39m=\u001b[39m pd\u001b[39m.\u001b[39;49mread_excel(\u001b[39m'\u001b[39;49m\u001b[39m../data/LesDeportes.xlsx\u001b[39;49m\u001b[39m'\u001b[39;49m)\n",
      "File \u001b[1;32mc:\\Users\\hp\\.ipython\\Nouveau dossier\\lib\\site-packages\\pandas\\util\\_decorators.py:311\u001b[0m, in \u001b[0;36mdeprecate_nonkeyword_arguments.<locals>.decorate.<locals>.wrapper\u001b[1;34m(*args, **kwargs)\u001b[0m\n\u001b[0;32m    305\u001b[0m \u001b[39mif\u001b[39;00m \u001b[39mlen\u001b[39m(args) \u001b[39m>\u001b[39m num_allow_args:\n\u001b[0;32m    306\u001b[0m     warnings\u001b[39m.\u001b[39mwarn(\n\u001b[0;32m    307\u001b[0m         msg\u001b[39m.\u001b[39mformat(arguments\u001b[39m=\u001b[39marguments),\n\u001b[0;32m    308\u001b[0m         \u001b[39mFutureWarning\u001b[39;00m,\n\u001b[0;32m    309\u001b[0m         stacklevel\u001b[39m=\u001b[39mstacklevel,\n\u001b[0;32m    310\u001b[0m     )\n\u001b[1;32m--> 311\u001b[0m \u001b[39mreturn\u001b[39;00m func(\u001b[39m*\u001b[39margs, \u001b[39m*\u001b[39m\u001b[39m*\u001b[39mkwargs)\n",
      "File \u001b[1;32mc:\\Users\\hp\\.ipython\\Nouveau dossier\\lib\\site-packages\\pandas\\io\\excel\\_base.py:457\u001b[0m, in \u001b[0;36mread_excel\u001b[1;34m(io, sheet_name, header, names, index_col, usecols, squeeze, dtype, engine, converters, true_values, false_values, skiprows, nrows, na_values, keep_default_na, na_filter, verbose, parse_dates, date_parser, thousands, decimal, comment, skipfooter, convert_float, mangle_dupe_cols, storage_options)\u001b[0m\n\u001b[0;32m    455\u001b[0m \u001b[39mif\u001b[39;00m \u001b[39mnot\u001b[39;00m \u001b[39misinstance\u001b[39m(io, ExcelFile):\n\u001b[0;32m    456\u001b[0m     should_close \u001b[39m=\u001b[39m \u001b[39mTrue\u001b[39;00m\n\u001b[1;32m--> 457\u001b[0m     io \u001b[39m=\u001b[39m ExcelFile(io, storage_options\u001b[39m=\u001b[39;49mstorage_options, engine\u001b[39m=\u001b[39;49mengine)\n\u001b[0;32m    458\u001b[0m \u001b[39melif\u001b[39;00m engine \u001b[39mand\u001b[39;00m engine \u001b[39m!=\u001b[39m io\u001b[39m.\u001b[39mengine:\n\u001b[0;32m    459\u001b[0m     \u001b[39mraise\u001b[39;00m \u001b[39mValueError\u001b[39;00m(\n\u001b[0;32m    460\u001b[0m         \u001b[39m\"\u001b[39m\u001b[39mEngine should not be specified when passing \u001b[39m\u001b[39m\"\u001b[39m\n\u001b[0;32m    461\u001b[0m         \u001b[39m\"\u001b[39m\u001b[39man ExcelFile - ExcelFile already has the engine set\u001b[39m\u001b[39m\"\u001b[39m\n\u001b[0;32m    462\u001b[0m     )\n",
      "File \u001b[1;32mc:\\Users\\hp\\.ipython\\Nouveau dossier\\lib\\site-packages\\pandas\\io\\excel\\_base.py:1376\u001b[0m, in \u001b[0;36mExcelFile.__init__\u001b[1;34m(self, path_or_buffer, engine, storage_options)\u001b[0m\n\u001b[0;32m   1374\u001b[0m     ext \u001b[39m=\u001b[39m \u001b[39m\"\u001b[39m\u001b[39mxls\u001b[39m\u001b[39m\"\u001b[39m\n\u001b[0;32m   1375\u001b[0m \u001b[39melse\u001b[39;00m:\n\u001b[1;32m-> 1376\u001b[0m     ext \u001b[39m=\u001b[39m inspect_excel_format(\n\u001b[0;32m   1377\u001b[0m         content_or_path\u001b[39m=\u001b[39;49mpath_or_buffer, storage_options\u001b[39m=\u001b[39;49mstorage_options\n\u001b[0;32m   1378\u001b[0m     )\n\u001b[0;32m   1379\u001b[0m     \u001b[39mif\u001b[39;00m ext \u001b[39mis\u001b[39;00m \u001b[39mNone\u001b[39;00m:\n\u001b[0;32m   1380\u001b[0m         \u001b[39mraise\u001b[39;00m \u001b[39mValueError\u001b[39;00m(\n\u001b[0;32m   1381\u001b[0m             \u001b[39m\"\u001b[39m\u001b[39mExcel file format cannot be determined, you must specify \u001b[39m\u001b[39m\"\u001b[39m\n\u001b[0;32m   1382\u001b[0m             \u001b[39m\"\u001b[39m\u001b[39man engine manually.\u001b[39m\u001b[39m\"\u001b[39m\n\u001b[0;32m   1383\u001b[0m         )\n",
      "File \u001b[1;32mc:\\Users\\hp\\.ipython\\Nouveau dossier\\lib\\site-packages\\pandas\\io\\excel\\_base.py:1250\u001b[0m, in \u001b[0;36minspect_excel_format\u001b[1;34m(content_or_path, storage_options)\u001b[0m\n\u001b[0;32m   1247\u001b[0m \u001b[39mif\u001b[39;00m \u001b[39misinstance\u001b[39m(content_or_path, \u001b[39mbytes\u001b[39m):\n\u001b[0;32m   1248\u001b[0m     content_or_path \u001b[39m=\u001b[39m BytesIO(content_or_path)\n\u001b[1;32m-> 1250\u001b[0m \u001b[39mwith\u001b[39;00m get_handle(\n\u001b[0;32m   1251\u001b[0m     content_or_path, \u001b[39m\"\u001b[39;49m\u001b[39mrb\u001b[39;49m\u001b[39m\"\u001b[39;49m, storage_options\u001b[39m=\u001b[39;49mstorage_options, is_text\u001b[39m=\u001b[39;49m\u001b[39mFalse\u001b[39;49;00m\n\u001b[0;32m   1252\u001b[0m ) \u001b[39mas\u001b[39;00m handle:\n\u001b[0;32m   1253\u001b[0m     stream \u001b[39m=\u001b[39m handle\u001b[39m.\u001b[39mhandle\n\u001b[0;32m   1254\u001b[0m     stream\u001b[39m.\u001b[39mseek(\u001b[39m0\u001b[39m)\n",
      "File \u001b[1;32mc:\\Users\\hp\\.ipython\\Nouveau dossier\\lib\\site-packages\\pandas\\io\\common.py:798\u001b[0m, in \u001b[0;36mget_handle\u001b[1;34m(path_or_buf, mode, encoding, compression, memory_map, is_text, errors, storage_options)\u001b[0m\n\u001b[0;32m    789\u001b[0m         handle \u001b[39m=\u001b[39m \u001b[39mopen\u001b[39m(\n\u001b[0;32m    790\u001b[0m             handle,\n\u001b[0;32m    791\u001b[0m             ioargs\u001b[39m.\u001b[39mmode,\n\u001b[1;32m   (...)\u001b[0m\n\u001b[0;32m    794\u001b[0m             newline\u001b[39m=\u001b[39m\u001b[39m\"\u001b[39m\u001b[39m\"\u001b[39m,\n\u001b[0;32m    795\u001b[0m         )\n\u001b[0;32m    796\u001b[0m     \u001b[39melse\u001b[39;00m:\n\u001b[0;32m    797\u001b[0m         \u001b[39m# Binary mode\u001b[39;00m\n\u001b[1;32m--> 798\u001b[0m         handle \u001b[39m=\u001b[39m \u001b[39mopen\u001b[39;49m(handle, ioargs\u001b[39m.\u001b[39;49mmode)\n\u001b[0;32m    799\u001b[0m     handles\u001b[39m.\u001b[39mappend(handle)\n\u001b[0;32m    801\u001b[0m \u001b[39m# Convert BytesIO or file objects passed with an encoding\u001b[39;00m\n",
      "\u001b[1;31mFileNotFoundError\u001b[0m: [Errno 2] No such file or directory: '../data/LesDeportes.xlsx'"
     ]
    }
   ],
   "source": [
    "dep = pd.read_excel('../data/LesDeportes.xlsx')"
   ]
  },
  {
   "cell_type": "code",
   "execution_count": null,
   "metadata": {},
   "outputs": [
    {
     "data": {
      "text/html": [
       "<div>\n",
       "<style scoped>\n",
       "    .dataframe tbody tr th:only-of-type {\n",
       "        vertical-align: middle;\n",
       "    }\n",
       "\n",
       "    .dataframe tbody tr th {\n",
       "        vertical-align: top;\n",
       "    }\n",
       "\n",
       "    .dataframe thead th {\n",
       "        text-align: right;\n",
       "    }\n",
       "</style>\n",
       "<table border=\"1\" class=\"dataframe\">\n",
       "  <thead>\n",
       "    <tr style=\"text-align: right;\">\n",
       "      <th></th>\n",
       "      <th>Nom de Famille</th>\n",
       "      <th>Prénom</th>\n",
       "      <th>Date de Naissance</th>\n",
       "      <th>Arrété à</th>\n",
       "      <th>Comté</th>\n",
       "      <th>Profession</th>\n",
       "      <th>Arrété le</th>\n",
       "      <th>Déporté le</th>\n",
       "      <th>Bateau</th>\n",
       "      <th>Date de décès</th>\n",
       "      <th>Age lors du décès</th>\n",
       "      <th>Lieu de décès</th>\n",
       "      <th>Numéro de Serie d'Auschwitz</th>\n",
       "    </tr>\n",
       "  </thead>\n",
       "  <tbody>\n",
       "    <tr>\n",
       "      <th>0</th>\n",
       "      <td>Abosch</td>\n",
       "      <td>Abraham</td>\n",
       "      <td>15-Dec-1869</td>\n",
       "      <td>Skiptvet</td>\n",
       "      <td>Østfold</td>\n",
       "      <td>Merchant</td>\n",
       "      <td>1942-10-26 00:00:00</td>\n",
       "      <td>1942-11-26 00:00:00</td>\n",
       "      <td>Donau</td>\n",
       "      <td>1-Dec-1942</td>\n",
       "      <td>72</td>\n",
       "      <td>Auschwitz</td>\n",
       "      <td>NaN</td>\n",
       "    </tr>\n",
       "    <tr>\n",
       "      <th>1</th>\n",
       "      <td>Adler</td>\n",
       "      <td>Ernst</td>\n",
       "      <td>1910-09-03 00:00:00</td>\n",
       "      <td>Oslo</td>\n",
       "      <td>Oslo</td>\n",
       "      <td>NaN</td>\n",
       "      <td>1942-10-26 00:00:00</td>\n",
       "      <td>1942-11-26 00:00:00</td>\n",
       "      <td>Donau</td>\n",
       "      <td>NaN</td>\n",
       "      <td>32</td>\n",
       "      <td>Auschwitz</td>\n",
       "      <td>79064</td>\n",
       "    </tr>\n",
       "    <tr>\n",
       "      <th>2</th>\n",
       "      <td>Appelsin[4]</td>\n",
       "      <td>Elka</td>\n",
       "      <td>08-Dec-1878</td>\n",
       "      <td>Oslo</td>\n",
       "      <td>Oslo</td>\n",
       "      <td>Homemaker</td>\n",
       "      <td>1942-11-26 00:00:00</td>\n",
       "      <td>24-Feb-1943</td>\n",
       "      <td>Gotenland</td>\n",
       "      <td>1943-03-03 00:00:00</td>\n",
       "      <td>64</td>\n",
       "      <td>Auschwitz</td>\n",
       "      <td>NaN</td>\n",
       "    </tr>\n",
       "    <tr>\n",
       "      <th>3</th>\n",
       "      <td>Aronstam</td>\n",
       "      <td>Anna</td>\n",
       "      <td>1907-09-27 00:00:00</td>\n",
       "      <td>Oslo</td>\n",
       "      <td>Oslo</td>\n",
       "      <td>Seamstress</td>\n",
       "      <td>1942-11-26 00:00:00</td>\n",
       "      <td>1942-11-26 00:00:00</td>\n",
       "      <td>Donau</td>\n",
       "      <td>1-Dec-1942</td>\n",
       "      <td>35</td>\n",
       "      <td>Auschwitz</td>\n",
       "      <td>NaN</td>\n",
       "    </tr>\n",
       "    <tr>\n",
       "      <th>4</th>\n",
       "      <td>Aronstam</td>\n",
       "      <td>Menasse</td>\n",
       "      <td>6-Jul-1868</td>\n",
       "      <td>Oslo</td>\n",
       "      <td>Oslo</td>\n",
       "      <td>Shoe worker</td>\n",
       "      <td>1942-11-26 00:00:00</td>\n",
       "      <td>1942-11-26 00:00:00</td>\n",
       "      <td>Donau</td>\n",
       "      <td>1-Dec-1942</td>\n",
       "      <td>74</td>\n",
       "      <td>Auschwitz</td>\n",
       "      <td>NaN</td>\n",
       "    </tr>\n",
       "  </tbody>\n",
       "</table>\n",
       "</div>"
      ],
      "text/plain": [
       "  Nom de Famille   Prénom    Date de Naissance  Arrété à    Comté  \\\n",
       "0         Abosch  Abraham          15-Dec-1869  Skiptvet  Østfold   \n",
       "1          Adler    Ernst  1910-09-03 00:00:00      Oslo     Oslo   \n",
       "2    Appelsin[4]     Elka          08-Dec-1878      Oslo     Oslo   \n",
       "3       Aronstam     Anna  1907-09-27 00:00:00      Oslo     Oslo   \n",
       "4       Aronstam  Menasse           6-Jul-1868      Oslo     Oslo   \n",
       "\n",
       "    Profession            Arrété le           Déporté le     Bateau  \\\n",
       "0     Merchant  1942-10-26 00:00:00  1942-11-26 00:00:00      Donau   \n",
       "1          NaN  1942-10-26 00:00:00  1942-11-26 00:00:00      Donau   \n",
       "2    Homemaker  1942-11-26 00:00:00          24-Feb-1943  Gotenland   \n",
       "3   Seamstress  1942-11-26 00:00:00  1942-11-26 00:00:00      Donau   \n",
       "4  Shoe worker  1942-11-26 00:00:00  1942-11-26 00:00:00      Donau   \n",
       "\n",
       "         Date de décès Age lors du décès Lieu de décès  \\\n",
       "0           1-Dec-1942                72     Auschwitz   \n",
       "1                  NaN                32     Auschwitz   \n",
       "2  1943-03-03 00:00:00                64     Auschwitz   \n",
       "3           1-Dec-1942                35     Auschwitz   \n",
       "4           1-Dec-1942                74     Auschwitz   \n",
       "\n",
       "  Numéro de Serie d'Auschwitz  \n",
       "0                         NaN  \n",
       "1                       79064  \n",
       "2                         NaN  \n",
       "3                         NaN  \n",
       "4                         NaN  "
      ]
     },
     "execution_count": 7,
     "metadata": {},
     "output_type": "execute_result"
    }
   ],
   "source": [
    "dep.head()"
   ]
  },
  {
   "cell_type": "code",
   "execution_count": null,
   "metadata": {},
   "outputs": [
    {
     "data": {
      "text/plain": [
       "(768, 13)"
      ]
     },
     "execution_count": 5,
     "metadata": {},
     "output_type": "execute_result"
    }
   ],
   "source": [
    "dep.shape"
   ]
  },
  {
   "cell_type": "code",
   "execution_count": null,
   "metadata": {},
   "outputs": [
    {
     "name": "stdout",
     "output_type": "stream",
     "text": [
      "<class 'pandas.core.frame.DataFrame'>\n",
      "RangeIndex: 768 entries, 0 to 767\n",
      "Data columns (total 13 columns):\n",
      " #   Column                       Non-Null Count  Dtype \n",
      "---  ------                       --------------  ----- \n",
      " 0   Nom de Famille               768 non-null    object\n",
      " 1   Prénom                       768 non-null    object\n",
      " 2   Date de Naissance            767 non-null    object\n",
      " 3   Arrété à                     768 non-null    object\n",
      " 4   Comté                        768 non-null    object\n",
      " 5   Profession                   746 non-null    object\n",
      " 6   Arrété le                    765 non-null    object\n",
      " 7   Déporté le                   765 non-null    object\n",
      " 8   Bateau                       768 non-null    object\n",
      " 9   Date de décès                727 non-null    object\n",
      " 10  Age lors du décès            738 non-null    object\n",
      " 11  Lieu de décès                738 non-null    object\n",
      " 12  Numéro de Serie d'Auschwitz  134 non-null    object\n",
      "dtypes: object(13)\n",
      "memory usage: 78.1+ KB\n"
     ]
    }
   ],
   "source": [
    "dep.info()"
   ]
  },
  {
   "cell_type": "markdown",
   "metadata": {},
   "source": [
    "Les colonnes sont:"
   ]
  },
  {
   "cell_type": "markdown",
   "metadata": {},
   "source": []
  },
  {
   "cell_type": "markdown",
   "metadata": {},
   "source": []
  },
  {
   "cell_type": "markdown",
   "metadata": {},
   "source": []
  }
 ],
 "metadata": {
  "celltoolbar": "Diaporama",
  "kernelspec": {
   "display_name": "Python 3 (ipykernel)",
   "language": "python",
   "name": "python3"
  },
  "language_info": {
   "codemirror_mode": {
    "name": "ipython",
    "version": 3
   },
   "file_extension": ".py",
   "mimetype": "text/x-python",
   "name": "python",
   "nbconvert_exporter": "python",
   "pygments_lexer": "ipython3",
   "version": "3.9.12 (main, Apr  4 2022, 05:22:27) [MSC v.1916 64 bit (AMD64)]"
  },
  "vscode": {
   "interpreter": {
    "hash": "40efc6f5c881aca25503b4ae91973bf4a41e2ba0f83e65758a924facdfdadc43"
   }
  }
 },
 "nbformat": 4,
 "nbformat_minor": 2
}
