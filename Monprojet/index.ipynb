{
 "cells": [
  {
   "cell_type": "code",
   "execution_count": 2,
   "metadata": {},
   "outputs": [],
   "source": [
    "import pandas as pd\n",
    "import numpy as np"
   ]
  },
  {
   "cell_type": "code",
   "execution_count": 3,
   "metadata": {},
   "outputs": [],
   "source": [
    "dep = pd.read_excel('../data/LesDeportes.xlsx')"
   ]
  },
  {
   "cell_type": "code",
   "execution_count": 7,
   "metadata": {},
   "outputs": [
    {
     "data": {
      "text/html": [
       "<div>\n",
       "<style scoped>\n",
       "    .dataframe tbody tr th:only-of-type {\n",
       "        vertical-align: middle;\n",
       "    }\n",
       "\n",
       "    .dataframe tbody tr th {\n",
       "        vertical-align: top;\n",
       "    }\n",
       "\n",
       "    .dataframe thead th {\n",
       "        text-align: right;\n",
       "    }\n",
       "</style>\n",
       "<table border=\"1\" class=\"dataframe\">\n",
       "  <thead>\n",
       "    <tr style=\"text-align: right;\">\n",
       "      <th></th>\n",
       "      <th>Nom de Famille</th>\n",
       "      <th>Prénom</th>\n",
       "      <th>Date de Naissance</th>\n",
       "      <th>Arrété à</th>\n",
       "      <th>Comté</th>\n",
       "      <th>Profession</th>\n",
       "      <th>Arrété le</th>\n",
       "      <th>Déporté le</th>\n",
       "      <th>Bateau</th>\n",
       "      <th>Date de décès</th>\n",
       "      <th>Age lors du décès</th>\n",
       "      <th>Lieu de décès</th>\n",
       "      <th>Numéro de Serie d'Auschwitz</th>\n",
       "    </tr>\n",
       "  </thead>\n",
       "  <tbody>\n",
       "    <tr>\n",
       "      <th>0</th>\n",
       "      <td>Abosch</td>\n",
       "      <td>Abraham</td>\n",
       "      <td>15-Dec-1869</td>\n",
       "      <td>Skiptvet</td>\n",
       "      <td>Østfold</td>\n",
       "      <td>Merchant</td>\n",
       "      <td>1942-10-26 00:00:00</td>\n",
       "      <td>1942-11-26 00:00:00</td>\n",
       "      <td>Donau</td>\n",
       "      <td>1-Dec-1942</td>\n",
       "      <td>72</td>\n",
       "      <td>Auschwitz</td>\n",
       "      <td>NaN</td>\n",
       "    </tr>\n",
       "    <tr>\n",
       "      <th>1</th>\n",
       "      <td>Adler</td>\n",
       "      <td>Ernst</td>\n",
       "      <td>1910-09-03 00:00:00</td>\n",
       "      <td>Oslo</td>\n",
       "      <td>Oslo</td>\n",
       "      <td>NaN</td>\n",
       "      <td>1942-10-26 00:00:00</td>\n",
       "      <td>1942-11-26 00:00:00</td>\n",
       "      <td>Donau</td>\n",
       "      <td>NaN</td>\n",
       "      <td>32</td>\n",
       "      <td>Auschwitz</td>\n",
       "      <td>79064</td>\n",
       "    </tr>\n",
       "    <tr>\n",
       "      <th>2</th>\n",
       "      <td>Appelsin[4]</td>\n",
       "      <td>Elka</td>\n",
       "      <td>08-Dec-1878</td>\n",
       "      <td>Oslo</td>\n",
       "      <td>Oslo</td>\n",
       "      <td>Homemaker</td>\n",
       "      <td>1942-11-26 00:00:00</td>\n",
       "      <td>24-Feb-1943</td>\n",
       "      <td>Gotenland</td>\n",
       "      <td>1943-03-03 00:00:00</td>\n",
       "      <td>64</td>\n",
       "      <td>Auschwitz</td>\n",
       "      <td>NaN</td>\n",
       "    </tr>\n",
       "    <tr>\n",
       "      <th>3</th>\n",
       "      <td>Aronstam</td>\n",
       "      <td>Anna</td>\n",
       "      <td>1907-09-27 00:00:00</td>\n",
       "      <td>Oslo</td>\n",
       "      <td>Oslo</td>\n",
       "      <td>Seamstress</td>\n",
       "      <td>1942-11-26 00:00:00</td>\n",
       "      <td>1942-11-26 00:00:00</td>\n",
       "      <td>Donau</td>\n",
       "      <td>1-Dec-1942</td>\n",
       "      <td>35</td>\n",
       "      <td>Auschwitz</td>\n",
       "      <td>NaN</td>\n",
       "    </tr>\n",
       "    <tr>\n",
       "      <th>4</th>\n",
       "      <td>Aronstam</td>\n",
       "      <td>Menasse</td>\n",
       "      <td>6-Jul-1868</td>\n",
       "      <td>Oslo</td>\n",
       "      <td>Oslo</td>\n",
       "      <td>Shoe worker</td>\n",
       "      <td>1942-11-26 00:00:00</td>\n",
       "      <td>1942-11-26 00:00:00</td>\n",
       "      <td>Donau</td>\n",
       "      <td>1-Dec-1942</td>\n",
       "      <td>74</td>\n",
       "      <td>Auschwitz</td>\n",
       "      <td>NaN</td>\n",
       "    </tr>\n",
       "  </tbody>\n",
       "</table>\n",
       "</div>"
      ],
      "text/plain": [
       "  Nom de Famille   Prénom    Date de Naissance  Arrété à    Comté  \\\n",
       "0         Abosch  Abraham          15-Dec-1869  Skiptvet  Østfold   \n",
       "1          Adler    Ernst  1910-09-03 00:00:00      Oslo     Oslo   \n",
       "2    Appelsin[4]     Elka          08-Dec-1878      Oslo     Oslo   \n",
       "3       Aronstam     Anna  1907-09-27 00:00:00      Oslo     Oslo   \n",
       "4       Aronstam  Menasse           6-Jul-1868      Oslo     Oslo   \n",
       "\n",
       "    Profession            Arrété le           Déporté le     Bateau  \\\n",
       "0     Merchant  1942-10-26 00:00:00  1942-11-26 00:00:00      Donau   \n",
       "1          NaN  1942-10-26 00:00:00  1942-11-26 00:00:00      Donau   \n",
       "2    Homemaker  1942-11-26 00:00:00          24-Feb-1943  Gotenland   \n",
       "3   Seamstress  1942-11-26 00:00:00  1942-11-26 00:00:00      Donau   \n",
       "4  Shoe worker  1942-11-26 00:00:00  1942-11-26 00:00:00      Donau   \n",
       "\n",
       "         Date de décès Age lors du décès Lieu de décès  \\\n",
       "0           1-Dec-1942                72     Auschwitz   \n",
       "1                  NaN                32     Auschwitz   \n",
       "2  1943-03-03 00:00:00                64     Auschwitz   \n",
       "3           1-Dec-1942                35     Auschwitz   \n",
       "4           1-Dec-1942                74     Auschwitz   \n",
       "\n",
       "  Numéro de Serie d'Auschwitz  \n",
       "0                         NaN  \n",
       "1                       79064  \n",
       "2                         NaN  \n",
       "3                         NaN  \n",
       "4                         NaN  "
      ]
     },
     "execution_count": 7,
     "metadata": {},
     "output_type": "execute_result"
    }
   ],
   "source": [
    "dep.head()"
   ]
  },
  {
   "cell_type": "code",
   "execution_count": 5,
   "metadata": {},
   "outputs": [
    {
     "data": {
      "text/plain": [
       "(768, 13)"
      ]
     },
     "execution_count": 5,
     "metadata": {},
     "output_type": "execute_result"
    }
   ],
   "source": [
    "dep.shape"
   ]
  },
  {
   "cell_type": "code",
   "execution_count": 6,
   "metadata": {},
   "outputs": [
    {
     "name": "stdout",
     "output_type": "stream",
     "text": [
      "<class 'pandas.core.frame.DataFrame'>\n",
      "RangeIndex: 768 entries, 0 to 767\n",
      "Data columns (total 13 columns):\n",
      " #   Column                       Non-Null Count  Dtype \n",
      "---  ------                       --------------  ----- \n",
      " 0   Nom de Famille               768 non-null    object\n",
      " 1   Prénom                       768 non-null    object\n",
      " 2   Date de Naissance            767 non-null    object\n",
      " 3   Arrété à                     768 non-null    object\n",
      " 4   Comté                        768 non-null    object\n",
      " 5   Profession                   746 non-null    object\n",
      " 6   Arrété le                    765 non-null    object\n",
      " 7   Déporté le                   765 non-null    object\n",
      " 8   Bateau                       768 non-null    object\n",
      " 9   Date de décès                727 non-null    object\n",
      " 10  Age lors du décès            738 non-null    object\n",
      " 11  Lieu de décès                738 non-null    object\n",
      " 12  Numéro de Serie d'Auschwitz  134 non-null    object\n",
      "dtypes: object(13)\n",
      "memory usage: 78.1+ KB\n"
     ]
    }
   ],
   "source": [
    "dep.info()"
   ]
  },
  {
   "attachments": {},
   "cell_type": "markdown",
   "metadata": {},
   "source": [
    "Les colonnes sont:"
   ]
  }
 ],
 "metadata": {
  "kernelspec": {
   "display_name": "base",
   "language": "python",
   "name": "python3"
  },
  "language_info": {
   "codemirror_mode": {
    "name": "ipython",
    "version": 3
   },
   "file_extension": ".py",
   "mimetype": "text/x-python",
   "name": "python",
   "nbconvert_exporter": "python",
   "pygments_lexer": "ipython3",
   "version": "3.9.12"
  },
  "orig_nbformat": 4,
  "vscode": {
   "interpreter": {
    "hash": "40efc6f5c881aca25503b4ae91973bf4a41e2ba0f83e65758a924facdfdadc43"
   }
  }
 },
 "nbformat": 4,
 "nbformat_minor": 2
}
